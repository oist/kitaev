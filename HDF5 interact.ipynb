{
 "cells": [
  {
   "cell_type": "code",
   "execution_count": null,
   "metadata": {
    "collapsed": false
   },
   "outputs": [],
   "source": [
    "using HDF5\n",
    "using PyPlot\n",
    "using PyCall\n",
    "@pyimport scipy.interpolate as si"
   ]
  },
  {
   "cell_type": "code",
   "execution_count": null,
   "metadata": {
    "collapsed": false
   },
   "outputs": [],
   "source": [
    "fid=h5open(\"diagonalization.h5\",\"r\")\n",
    "#fid2=h5open(\"twoflux.h5\",\"r\")"
   ]
  },
  {
   "cell_type": "code",
   "execution_count": null,
   "metadata": {
    "collapsed": false
   },
   "outputs": [],
   "source": [
    "names(fid)"
   ]
  },
  {
   "cell_type": "code",
   "execution_count": null,
   "metadata": {
    "collapsed": false
   },
   "outputs": [],
   "source": [
    "h=fid[\"50/5\"]\n",
    "names(h)"
   ]
  },
  {
   "cell_type": "code",
   "execution_count": null,
   "metadata": {
    "collapsed": false
   },
   "outputs": [],
   "source": [
    "Xb=read(h[\"Xb\"]);\n",
    "Xw=read(h[\"Xw\"]);\n",
    "E=read(h[\"E\"]);\n",
    "S=read(h[\"S\"]);\n",
    "U=read(h[\"U\"]);\n",
    "V=read(h[\"V\"]);\n",
    "Bondsb=read(h[\"Bondsb\"]);\n",
    "i0b=read(h[\"i0b\"]);"
   ]
  },
  {
   "cell_type": "code",
   "execution_count": null,
   "metadata": {
    "collapsed": false
   },
   "outputs": [],
   "source": [
    "Nx=50;\n",
    "N=3*Nx^2;"
   ]
  },
  {
   "cell_type": "code",
   "execution_count": null,
   "metadata": {
    "collapsed": false
   },
   "outputs": [],
   "source": []
  },
  {
   "cell_type": "code",
   "execution_count": null,
   "metadata": {
    "collapsed": false
   },
   "outputs": [],
   "source": [
    "site=round(Int,N/2);\n",
    "n=150;\n",
    "omega=collect(linspace(0,6,150));\n",
    "heights2=zeros(omega);\n",
    "\n",
    "  for  j in 1:N;\n",
    "        k=round(Int,ceil(E[j]*50));\n",
    "        heights2[k]+=.5*V[site,j].^2\n",
    "  end"
   ]
  },
  {
   "cell_type": "code",
   "execution_count": null,
   "metadata": {
    "collapsed": false
   },
   "outputs": [],
   "source": [
    "data=readdlm(\"digi.dat\")"
   ]
  },
  {
   "cell_type": "code",
   "execution_count": null,
   "metadata": {
    "collapsed": false
   },
   "outputs": [],
   "source": [
    "pygui(false)\n",
    "plot(omega,heights,label=\"Me\")\n",
    "plot(omega[1:50],data[2:end]*.013/510,color=\"green\",label=\"Scaled Paper\")\n",
    "xlim(0,2)\n",
    "title(\"Comparison of Paper and me\")\n",
    "xlabel(\"Omega\")\n",
    "legend(loc=\"Upper Left\")"
   ]
  },
  {
   "cell_type": "code",
   "execution_count": null,
   "metadata": {
    "collapsed": false
   },
   "outputs": [],
   "source": [
    "pygui(true)\n",
    "scatter(E[1:100],U[round(Int,N/2),1:100].^2,color=\"red\")\n",
    "scatter(E[1:100]+.0001,U[round(Int,N/2)+1,1:100].^2)\n",
    "scatter(E[1:100]+.0002,U[round(Int,N/2)+2,1:100].^2,color=\"green\")\n",
    "ylim(-.001,.002)"
   ]
  },
  {
   "cell_type": "code",
   "execution_count": null,
   "metadata": {
    "collapsed": false
   },
   "outputs": [],
   "source": [
    "x=cat(1,Xb,Xw)[:,1];\n",
    "y=cat(1,Xb,Xw)[:,2];\n",
    "pygui(false)\n",
    "scatter(x,y)\n",
    "minimum(x)"
   ]
  },
  {
   "cell_type": "code",
   "execution_count": null,
   "metadata": {
    "collapsed": false
   },
   "outputs": [],
   "source": [
    "xmin=86;\n",
    "xmat=repmat(collect(-xmin:.25:xmin),1,8*xmin+1);\n",
    "ymat=repmat(transpose(collect(-xmin:.25:xmin)),8*xmin+1,1);"
   ]
  },
  {
   "cell_type": "code",
   "execution_count": null,
   "metadata": {
    "collapsed": false
   },
   "outputs": [],
   "source": [
    "grid0=si.griddata(cat(1,Xb,Xw),cat(1,U[:,end],V[:,end]),(xmat,ymat),method=\"nearest\");\n",
    "grid1=si.griddata(cat(1,Xb,Xw),cat(1,U[:,end-1],V[:,end-1]),(xmat,ymat),method=\"nearest\");\n",
    "grid2=si.griddata(cat(1,Xb,Xw),cat(1,U[:,end-2],V[:,end-2]),(xmat,ymat),method=\"nearest\");\n",
    "grid3=si.griddata(cat(1,Xb,Xw),cat(1,U[:,end-3],V[:,end-3]),(xmat,ymat),method=\"nearest\");\n",
    "grids=si.griddata(cat(1,Xb,Xw),cat(1,U[:,1],V[:,1]),(xmat,ymat),method=\"nearest\");"
   ]
  },
  {
   "cell_type": "code",
   "execution_count": null,
   "metadata": {
    "collapsed": true
   },
   "outputs": [],
   "source": [
    "grid0=si.griddata(Xb,U[:,1],(xmat,ymat),method=\"nearest\");"
   ]
  },
  {
   "cell_type": "code",
   "execution_count": null,
   "metadata": {
    "collapsed": false
   },
   "outputs": [],
   "source": [
    "pcolor(grid0)"
   ]
  },
  {
   "cell_type": "code",
   "execution_count": null,
   "metadata": {
    "collapsed": false
   },
   "outputs": [],
   "source": [
    "pygui(true)\n",
    "pcolor(xmat,ymat,grid0.^2,cmap=\"coolwarm\")\n",
    "colorbar()\n",
    "#scatter(X[:,1],X[:,2],marker=\".\",alpha=0.05)"
   ]
  },
  {
   "cell_type": "code",
   "execution_count": null,
   "metadata": {
    "collapsed": false
   },
   "outputs": [],
   "source": [
    "pygui(false)\n",
    "pcolor(xmat,ymat,grid1.^2,cmap=\"coolwarm\")\n",
    "colorbar()\n",
    "scatter(X[:,1],X[:,2],marker=\".\",alpha=0.05)"
   ]
  },
  {
   "cell_type": "code",
   "execution_count": null,
   "metadata": {
    "collapsed": false
   },
   "outputs": [],
   "source": [
    "pygui(false)\n",
    "pcolor(xmat,ymat,grid2.^2,cmap=\"coolwarm\")\n",
    "colorbar()\n",
    "scatter(x,y,marker=\".\",alpha=0.05)"
   ]
  },
  {
   "cell_type": "code",
   "execution_count": null,
   "metadata": {
    "collapsed": false
   },
   "outputs": [],
   "source": [
    "pygui(false)\n",
    "pcolor(xmat,ymat,grid3.^2,cmap=\"coolwarm\")\n",
    "colorbar()\n",
    "scatter(x,y,marker=\".\",alpha=0.05)"
   ]
  },
  {
   "cell_type": "code",
   "execution_count": null,
   "metadata": {
    "collapsed": false
   },
   "outputs": [],
   "source": [
    "pygui(false)\n",
    "pcolor(xmat,ymat,grids.^2,cmap=\"coolwarm\")\n",
    "colorbar()\n",
    "scatter(X[:,1],X[:,2],marker=\".\",alpha=0.05)"
   ]
  },
  {
   "cell_type": "code",
   "execution_count": null,
   "metadata": {
    "collapsed": false
   },
   "outputs": [],
   "source": [
    "X=cat(1,Xb,Xw);\n",
    "U2=cat(2,U,V);\n",
    "\n",
    "trans1=copy(X)\n",
    "trans2=copy(X)\n",
    "trans3=copy(X)\n",
    "\n",
    "trans1[:,2]+=-Nx*3;\n",
    "\n",
    "trans2[:,1]+=sqrt(3)*Nx*3/2;\n",
    "trans2[:,2]+=-Nx*3/2;\n",
    "\n",
    "trans3[:,1]+=-sqrt(3)*Nx*3/2;\n",
    "trans3[:,2]+=-Nx*3/2;"
   ]
  },
  {
   "cell_type": "code",
   "execution_count": null,
   "metadata": {
    "collapsed": false
   },
   "outputs": [],
   "source": [
    "function mindist(i::Int,j::Int)\n",
    "    dist(x,y)=sqrt(x^2+y^2);\n",
    "    \n",
    "    r0=dist(X[i,1]-X[j,1],X[i,2]-X[j,2]);\n",
    "    r1=dist(trans1[i,1]-X[j,1],trans1[i,2]-X[j,2]);\n",
    "    r2=dist(trans2[i,1]-X[j,1],trans2[i,2]-X[j,2]);\n",
    "    r3=dist(trans3[i,1]-X[j,1],trans3[i,2]-X[j,2]);\n",
    "    \n",
    "    r4=dist(trans1[j,1]-X[i,1],trans1[j,2]-X[i,2]);\n",
    "    r5=dist(trans2[j,1]-X[i,1],trans2[j,2]-X[i,2]);\n",
    "    r6=dist(trans3[j,1]-X[i,1],trans3[j,2]-X[i,2]);\n",
    "    \n",
    "    return minimum([r0,r1,r2,r3,r4,r5,r6])\n",
    "end"
   ]
  },
  {
   "cell_type": "code",
   "execution_count": null,
   "metadata": {
    "collapsed": false
   },
   "outputs": [],
   "source": [
    "j=606;\n",
    "db=zeros(Float64,N);\n",
    "for i in 1:N\n",
    "    db[i]=mindistb(i,j);\n",
    "end"
   ]
  },
  {
   "cell_type": "code",
   "execution_count": null,
   "metadata": {
    "collapsed": false
   },
   "outputs": [],
   "source": [
    "scatter(Xb[:,1],Xb[:,2],c=db,marker=\"o\",s=10,linewidths=0)\n",
    "colorbar()"
   ]
  },
  {
   "cell_type": "code",
   "execution_count": null,
   "metadata": {
    "collapsed": false
   },
   "outputs": [],
   "source": []
  },
  {
   "cell_type": "code",
   "execution_count": null,
   "metadata": {
    "collapsed": false
   },
   "outputs": [],
   "source": [
    "rs=zeros(Float64,2*N)\n",
    "j=1000;\n",
    "for i in 1:2*N\n",
    "    rs[i]=mindist(i,j);\n",
    "end"
   ]
  },
  {
   "cell_type": "code",
   "execution_count": null,
   "metadata": {
    "collapsed": false
   },
   "outputs": [],
   "source": [
    "p=sortperm(rs)\n",
    "plot(rs[p[1:50]],marker=\"o\")"
   ]
  },
  {
   "cell_type": "code",
   "execution_count": null,
   "metadata": {
    "collapsed": false
   },
   "outputs": [],
   "source": [
    "plot(squeeze(U2[end-1,p[1:50]]*U2[end-1,1],1))"
   ]
  },
  {
   "cell_type": "code",
   "execution_count": null,
   "metadata": {
    "collapsed": false
   },
   "outputs": [],
   "source": [
    "bins=zeros(Float64,2*87);\n",
    "nbins=zeros(Float64,2*87)\n",
    "for j in 1:2*N;\n",
    "    for i in 1:(j-1)\n",
    "        r=ceil(Int,2*mindist(i,j));\n",
    "        if r==0\n",
    "            r=1\n",
    "        end\n",
    "        bins[r]+=(U2[end,i]*U2[end,j])^2;\n",
    "        nbins[r]+=1;\n",
    "    end\n",
    "    if j%1000==0\n",
    "        println(\"at \",j,\" \",j/N)\n",
    "    end\n",
    "end\n",
    "binsp=bins./(nbins);\n",
    "for i in 1:2*87\n",
    "    if isnan(binsp[i])\n",
    "        binsp[i]=binsp[i+1];\n",
    "    end\n",
    "end"
   ]
  },
  {
   "cell_type": "code",
   "execution_count": null,
   "metadata": {
    "collapsed": false
   },
   "outputs": [],
   "source": [
    "bins1=zeros(Float64,2*87);\n",
    "nbins=zeros(Float64,2*87)\n",
    "for j in 1:2*N;\n",
    "    for i in 1:(j-1)\n",
    "        r=ceil(Int,2*mindist(i,j));\n",
    "        if r==0\n",
    "            r=1\n",
    "        end\n",
    "        bins1[r]+=(U2[end-1,i]*U2[end-1,j])^2;\n",
    "        nbins[r]+=1;\n",
    "    end\n",
    "    if j%1000==0\n",
    "        println(\"at \",j,\" \",j/N)\n",
    "    end\n",
    "end\n",
    "binsp1=bins1./(nbins);\n",
    "for i in 1:2*87\n",
    "    if isnan(binsp1[i])\n",
    "        binsp1[i]=binsp1[i+1];\n",
    "    end\n",
    "end"
   ]
  },
  {
   "cell_type": "code",
   "execution_count": null,
   "metadata": {
    "collapsed": false
   },
   "outputs": [],
   "source": [
    "scatter(x-1,binsp1[1:50]+binsp[1:50]-2*mean(U2[end,:].^2).^2,color=\"black\",marker=\"o\",linewidth=0)\n",
    "ylim(-1e-9,1e-9)"
   ]
  },
  {
   "cell_type": "code",
   "execution_count": null,
   "metadata": {
    "collapsed": false
   },
   "outputs": [],
   "source": [
    "x=collect(1.:50.);"
   ]
  },
  {
   "cell_type": "code",
   "execution_count": null,
   "metadata": {
    "collapsed": false
   },
   "outputs": [],
   "source": [
    "pygui(false)\n",
    "ylim(0,1e-9)\n",
    "scatter(x-1,abs(binsp[1:50]-mean(U2[end,:].^2)^2),marker=\"o\",color=\"red\")#c=nbins[1:50],linewidth=0)\n",
    "scatter(x-1,abs(binsp1[1:50]-mean(U2[end-1,:].^2)^2),marker=\"o\",linewidth=0)\n",
    "scatter(x-1,abs(binsp1[1:50]+binsp[1:50]-2*mean(U2[end,:].^2+U2[end-1,:].^2)^2),color=\"black\",marker=\"o\",linewidth=0)\n",
    "#plot(binsp[1:40]-mean(U2[end-1,:].^2)^2)\n",
    "plot(x,zeros(x))"
   ]
  },
  {
   "cell_type": "code",
   "execution_count": null,
   "metadata": {
    "collapsed": false
   },
   "outputs": [],
   "source": [
    "plot(nbins[1:40])"
   ]
  },
  {
   "cell_type": "code",
   "execution_count": null,
   "metadata": {
    "collapsed": false
   },
   "outputs": [],
   "source": [
    "for i in 1:2*87\n",
    "    if binsp[i]==0#isnan(binsp[i])\n",
    "        binsp[i]=binsp[i+1];\n",
    "    end\n",
    "end"
   ]
  },
  {
   "cell_type": "code",
   "execution_count": null,
   "metadata": {
    "collapsed": false
   },
   "outputs": [],
   "source": [
    "mean(U2[end-1,:])"
   ]
  },
  {
   "cell_type": "code",
   "execution_count": null,
   "metadata": {
    "collapsed": false
   },
   "outputs": [],
   "source": [
    "mean(binsp)"
   ]
  },
  {
   "cell_type": "code",
   "execution_count": null,
   "metadata": {
    "collapsed": false
   },
   "outputs": [],
   "source": [
    "plot(E[end:-1:end-4],marker=\"o\")"
   ]
  },
  {
   "cell_type": "code",
   "execution_count": null,
   "metadata": {
    "collapsed": false
   },
   "outputs": [],
   "source": [
    "mean(U2[end,:].^2),mean(U2[end-1,:].^2),mean(U2[end-2,:].^2)"
   ]
  },
  {
   "cell_type": "code",
   "execution_count": null,
   "metadata": {
    "collapsed": true
   },
   "outputs": [],
   "source": []
  }
 ],
 "metadata": {
  "kernelspec": {
   "display_name": "Julia 0.4.1",
   "language": "julia",
   "name": "julia-0.4"
  },
  "language_info": {
   "file_extension": ".jl",
   "mimetype": "application/julia",
   "name": "julia",
   "version": "0.4.1"
  }
 },
 "nbformat": 4,
 "nbformat_minor": 0
}
