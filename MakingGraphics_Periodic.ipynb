{
 "cells": [
  {
   "cell_type": "code",
   "execution_count": 1,
   "metadata": {
    "collapsed": false
   },
   "outputs": [],
   "source": [
    "using HDF5\n",
    "using Gadfly\n",
    "using Compose\n",
    "using Colors"
   ]
  },
  {
   "cell_type": "code",
   "execution_count": 2,
   "metadata": {
    "collapsed": false
   },
   "outputs": [
    {
     "data": {
      "text/plain": [
       "HDF5 data file: openbound.h5"
      ]
     },
     "execution_count": 2,
     "metadata": {},
     "output_type": "execute_result"
    }
   ],
   "source": [
    "fid=h5open(\"openbound.h5\",\"r\")"
   ]
  },
  {
   "cell_type": "code",
   "execution_count": 3,
   "metadata": {
    "collapsed": false
   },
   "outputs": [
    {
     "data": {
      "text/plain": [
       "3-element Array{ByteString,1}:\n",
       " \"20\"\n",
       " \"5\" \n",
       " \"50\""
      ]
     },
     "execution_count": 3,
     "metadata": {},
     "output_type": "execute_result"
    }
   ],
   "source": [
    "names(fid)"
   ]
  },
  {
   "cell_type": "code",
   "execution_count": 6,
   "metadata": {
    "collapsed": false
   },
   "outputs": [
    {
     "data": {
      "text/plain": [
       "14-element Array{ByteString,1}:\n",
       " \"Bondaryb\"\n",
       " \"Bondaryw\"\n",
       " \"Bondsb\"  \n",
       " \"Bondsw\"  \n",
       " \"E\"       \n",
       " \"S\"       \n",
       " \"U\"       \n",
       " \"V\"       \n",
       " \"Xb\"      \n",
       " \"Xw\"      \n",
       " \"heights\" \n",
       " \"i0b\"     \n",
       " \"i0w\"     \n",
       " \"omega\"   "
      ]
     },
     "execution_count": 6,
     "metadata": {},
     "output_type": "execute_result"
    }
   ],
   "source": [
    "h=fid[\"50/5\"]\n",
    "names(h)"
   ]
  },
  {
   "cell_type": "code",
   "execution_count": 7,
   "metadata": {
    "collapsed": false
   },
   "outputs": [],
   "source": [
    "Xb=read(h[\"Xb\"]);\n",
    "Xw=read(h[\"Xw\"]);\n",
    "E=read(h[\"E\"]);\n",
    "S=read(h[\"S\"]);\n",
    "U=read(h[\"U\"]);\n",
    "V=read(h[\"V\"]);\n",
    "Bondsb=read(h[\"Bondsb\"]);\n",
    "Bondsw=read(h[\"Bondsw\"]);\n",
    "i0b=read(h[\"i0b\"]);\n",
    "heights=read(h[\"heights\"]);\n",
    "omega=read(h[\"omega\"]);"
   ]
  },
  {
   "cell_type": "code",
   "execution_count": 8,
   "metadata": {
    "collapsed": false
   },
   "outputs": [
    {
     "data": {
      "text/plain": [
       "11809.44885304155"
      ]
     },
     "execution_count": 8,
     "metadata": {},
     "output_type": "execute_result"
    }
   ],
   "source": [
    "sum(E)"
   ]
  },
  {
   "cell_type": "code",
   "execution_count": null,
   "metadata": {
    "collapsed": false
   },
   "outputs": [],
   "source": [
    "base03=parse(Colorant,\"#002b36\");\n",
    "base02=parse(Colorant,\"#073642\");\n",
    "base01=parse(Colorant,\"#586e75\");\n",
    "base00=parse(Colorant,\"#657b83\");\n",
    "base0=parse(Colorant,\"#839496\");\n",
    "base1=parse(Colorant,\"#839496\");\n",
    "base2=parse(Colorant,\"#eee8d5\");\n",
    "base3=parse(Colorant,\"#fdf6e3\");\n",
    "\n",
    "yellow=parse(Colorant,\"#b58900\");\n",
    "orange=parse(Colorant,\"#cb4b16\");\n",
    "red=parse(Colorant,\"#dc322f\");\n",
    "magenta=parse(Colorant,\"#d33682\");\n",
    "violet=parse(Colorant,\"#6c71c4\");\n",
    "blue=parse(Colorant,\"#268bd2\");\n",
    "cyan=parse(Colorant,\"#3aa198\");\n",
    "green=parse(Colorant,\"#859900\");"
   ]
  },
  {
   "cell_type": "code",
   "execution_count": null,
   "metadata": {
    "collapsed": true
   },
   "outputs": [],
   "source": []
  },
  {
   "cell_type": "code",
   "execution_count": null,
   "metadata": {
    "collapsed": false
   },
   "outputs": [],
   "source": [
    "N=7500;\n",
    "t=Theme(highlight_width=0pt,default_point_size=1pt,background_color=base03,\n",
    "    grid_color=base2,minor_label_color=base2,key_label_color=base2,\n",
    "    key_title_color=cyan,major_label_color=cyan\n",
    ");\n",
    "\n",
    "lx=Guide.xlabel(\"x\");\n",
    "ly=Guide.ylabel(\"y\");\n",
    "\n",
    "dsc=Scale.ContinuousColorScale(Scale.lab_gradient(red,base00,yellow));\n",
    "sc=Scale.ContinuousColorScale(Scale.lab_gradient(magenta,violet,blue,cyan,green));"
   ]
  },
  {
   "cell_type": "code",
   "execution_count": null,
   "metadata": {
    "collapsed": false
   },
   "outputs": [],
   "source": [
    "state=1;\n",
    "bsites=layer(x=Xb[:,1],y=Xb[:,2],color=V[:,state],Geom.point,t)\n",
    "wsites=layer(x=Xw[:,1],y=Xw[:,2],color=U[:,state],Geom.point,t)\n",
    "plot(bsites,wsites,sc,t,lx,ly,Guide.title(\"Highest Energy Majorana Wavefunction\"))"
   ]
  },
  {
   "cell_type": "code",
   "execution_count": null,
   "metadata": {
    "collapsed": false
   },
   "outputs": [],
   "source": [
    "state=2;\n",
    "bsites=layer(x=Xb[:,1],y=Xb[:,2],color=V[:,state],Geom.point,t)\n",
    "wsites=layer(x=Xw[:,1],y=Xw[:,2],color=U[:,state],Geom.point,t)\n",
    "plot(bsites,wsites,sc,t,lx,ly,Guide.title(\"Next to Highest Energy Majorana Wavefunction\"))"
   ]
  },
  {
   "cell_type": "code",
   "execution_count": null,
   "metadata": {
    "collapsed": false
   },
   "outputs": [],
   "source": [
    "bsites=layer(x=Xb[:,1],y=Xb[:,2],color=V[:,3000],Geom.point,t)\n",
    "wsites=layer(x=Xw[:,1],y=Xw[:,2],color=U[:,3000],Geom.point,t)\n",
    "plot(bsites,wsites,sc,t)"
   ]
  },
  {
   "cell_type": "code",
   "execution_count": null,
   "metadata": {
    "collapsed": false,
    "scrolled": true
   },
   "outputs": [],
   "source": [
    "bsites=layer(x=Xb[:,1],y=Xb[:,2],color=V[:,4000],Geom.point,t)\n",
    "wsites=layer(x=Xw[:,1],y=Xw[:,2],color=U[:,4000],Geom.point,t)\n",
    "plot(bsites,wsites,sc,t)\n"
   ]
  },
  {
   "cell_type": "code",
   "execution_count": null,
   "metadata": {
    "collapsed": false
   },
   "outputs": [],
   "source": [
    "bsites=layer(x=Xb[:,1],y=Xb[:,2],color=V[:,7000],Geom.point,t)\n",
    "wsites=layer(x=Xw[:,1],y=Xw[:,2],color=U[:,7000],Geom.point,t)\n",
    "plot(bsites,wsites,sc,t)"
   ]
  },
  {
   "cell_type": "code",
   "execution_count": null,
   "metadata": {
    "collapsed": false
   },
   "outputs": [],
   "source": [
    "bsites=layer(x=Xb[:,1],y=Xb[:,2],color=log(abs(V[:,7000])),Geom.point,t)\n",
    "wsites=layer(x=Xw[:,1],y=Xw[:,2],color=log(abs(U[:,7000])),Geom.point,t)\n",
    "plot(bsites,wsites,sc,t)"
   ]
  },
  {
   "cell_type": "code",
   "execution_count": null,
   "metadata": {
    "collapsed": false
   },
   "outputs": [],
   "source": [
    "bsites=layer(x=Xb[:,1],y=Xb[:,2],color=V[:,7000],Geom.point,t)\n",
    "wsites=layer(x=Xw[:,1],y=Xw[:,2],color=U[:,7000],Geom.point,t)\n",
    "plot(bsites,wsites,sc,t)"
   ]
  },
  {
   "cell_type": "code",
   "execution_count": null,
   "metadata": {
    "collapsed": false
   },
   "outputs": [],
   "source": [
    "hsy=(1+sin(pi/6))\n",
    "hsx=3*cos(pi/6);\n",
    "sp=[80,20];\n",
    "ep=[45,60];\n",
    "w=2;\n",
    "spx=75;\n",
    "spy=20;\n",
    "epx=spx-15*hsy;\n",
    "epy=spy+15*hsx;"
   ]
  },
  {
   "cell_type": "code",
   "execution_count": null,
   "metadata": {
    "collapsed": true
   },
   "outputs": [],
   "source": []
  },
  {
   "cell_type": "code",
   "execution_count": null,
   "metadata": {
    "collapsed": false
   },
   "outputs": [],
   "source": []
  },
  {
   "cell_type": "code",
   "execution_count": null,
   "metadata": {
    "collapsed": false
   },
   "outputs": [],
   "source": []
  },
  {
   "cell_type": "code",
   "execution_count": null,
   "metadata": {
    "collapsed": true
   },
   "outputs": [],
   "source": [
    "tp=Theme(highlight_width=0pt,default_point_size=20pt,background_color=base03,\n",
    "    grid_color=base2,minor_label_color=base2,key_label_color=base2,\n",
    "    key_title_color=cyan,major_label_color=cyan\n",
    ");\n",
    "tppp=Theme(highlight_width=0pt,default_point_size=.75pt,background_color=base03,\n",
    "    grid_color=base2,minor_label_color=base2,key_label_color=base2,\n",
    "    key_title_color=cyan,major_label_color=cyan\n",
    ");"
   ]
  },
  {
   "cell_type": "code",
   "execution_count": null,
   "metadata": {
    "collapsed": false
   },
   "outputs": [],
   "source": [
    "bsites=layer(x=Xb[:,1],y=Xb[:,2],color=V[:,end],Geom.point,tp)\n",
    "wsites=layer(x=Xw[:,1],y=Xw[:,2],color=U[:,end],Geom.point,tp)\n",
    "\n",
    "plot(bsites,sc,lx,ly,\n",
    "Guide.title(\"Black sites on 1 of 2 Majorana Ground States\"),tp)"
   ]
  },
  {
   "cell_type": "code",
   "execution_count": null,
   "metadata": {
    "collapsed": false
   },
   "outputs": [],
   "source": [
    "plot(wsites,sc,lx,ly,\n",
    "Guide.title(\"White sites on 1 of 2 Majorana Ground States\"),tp)"
   ]
  },
  {
   "cell_type": "code",
   "execution_count": null,
   "metadata": {
    "collapsed": false
   },
   "outputs": [],
   "source": [
    "tp=Theme(highlight_width=0pt,default_point_size=6pt,background_color=base03,\n",
    "    grid_color=base2,minor_label_color=base2,key_label_color=base2,\n",
    "    key_title_color=cyan,major_label_color=cyan\n",
    ");\n",
    "\n",
    "bsites=layer(x=Xb[:,1],y=Xb[:,2],color=(V[:,end]/V[1,end]),Geom.point,tp)\n",
    "wsites=layer(x=Xw[:,1],y=Xw[:,2],color=(U[:,end]/U[1,end]),Geom.point,tp)\n",
    "#bsites2=layer(x=Xb[:,1]-.2,y=Xb[:,2],color=V[end:-1:1,end],Geom.point,tpp)\n",
    "#wsites2=layer(x=Xw[:,1]-.2,y=Xw[:,2],color=U[end:-1:1,end],Geom.point,tpp)\n",
    "\n",
    "plot(wsites,bsites,\n",
    "sc,lx,ly,\n",
    "Guide.title(\"Majorana Ground States\"),\n",
    "tp)\n"
   ]
  },
  {
   "cell_type": "code",
   "execution_count": null,
   "metadata": {
    "collapsed": false
   },
   "outputs": [],
   "source": [
    "bsites=layer(x=Xb[:,1],y=Xb[:,2],color=(V[:,end]-V[:,end-1]),Geom.point,tpp)\n",
    "wsites=layer(x=Xw[:,1],y=Xw[:,2],color=(U[:,end]-U[:,end-1]),Geom.point,tpp)\n",
    "\n",
    "plot(wsites,bsites,sc,lx,ly,\n",
    "Guide.title(\"Majorana Ground States\"),\n",
    "Coord.Cartesian(ymin=0,ymax=10,xmin=0,xmax=10),tpp)\n",
    "0"
   ]
  },
  {
   "cell_type": "code",
   "execution_count": null,
   "metadata": {
    "collapsed": false
   },
   "outputs": [],
   "source": [
    "bsites=layer(x=Xb[:,1],y=Xb[:,2],color=V[:,end-2],Geom.point,tppp)\n",
    "wsites=layer(x=Xw[:,1],y=Xw[:,2],color=U[:,end-2],Geom.point,tppp)\n",
    "\n",
    "plot(wsites,bsites,sc,lx,ly,\n",
    "Guide.title(\"adsfasdf\"),tppp)\n",
    "0"
   ]
  },
  {
   "cell_type": "code",
   "execution_count": null,
   "metadata": {
    "collapsed": false
   },
   "outputs": [],
   "source": [
    "bsites=layer(x=Xb[:,1],y=Xb[:,2],color=V[:,end-3],Geom.point,tppp)\n",
    "wsites=layer(x=Xw[:,1],y=Xw[:,2],color=U[:,end-3],Geom.point,tppp)\n",
    "\n",
    "plot(wsites,bsites,sc,lx,ly,\n",
    "Guide.title(\"adsfasdf\"),tppp)\n",
    "0"
   ]
  },
  {
   "cell_type": "code",
   "execution_count": null,
   "metadata": {
    "collapsed": false
   },
   "outputs": [],
   "source": [
    "bsites=layer(x=Xb[:,1],y=Xb[:,2],color=V[:,end-4],Geom.point,tppp)\n",
    "wsites=layer(x=Xw[:,1],y=Xw[:,2],color=U[:,end-4],Geom.point,tppp)\n",
    "\n",
    "plot(wsites,bsites,sc,lx,ly,\n",
    "Guide.title(\"adsfasdf\"),tppp)\n",
    "0"
   ]
  },
  {
   "cell_type": "code",
   "execution_count": null,
   "metadata": {
    "collapsed": false
   },
   "outputs": [],
   "source": [
    "bsites=layer(x=Xb[:,1],y=Xb[:,2],color=V[:,end-1],Geom.point,tp)\n",
    "wsites=layer(x=Xw[:,1],y=Xw[:,2],color=U[:,end-1],Geom.point,tp)\n",
    "plot(bsites,sc,lx,ly,\n",
    "Guide.title(\"Black sites on 2 of 2 Majorana Ground States\"),\n",
    "Coord.Cartesian(ymin=0,ymax=10,xmin=0,xmax=10),tp)\n",
    "0"
   ]
  },
  {
   "cell_type": "code",
   "execution_count": null,
   "metadata": {
    "collapsed": false
   },
   "outputs": [],
   "source": [
    "plot(wsites,sc,lx,ly,\n",
    "Guide.title(\"Whites sites on 2 of 2 Majorana Ground States\"),\n",
    "Coord.Cartesian(ymin=0,ymax=10,xmin=0,xmax=10),tp)\n",
    "0"
   ]
  },
  {
   "cell_type": "code",
   "execution_count": null,
   "metadata": {
    "collapsed": false
   },
   "outputs": [],
   "source": [
    "plot(x=collect(1:length(E)),y=E,\n",
    "Theme(highlight_width=0pt,default_point_size=1pt,background_color=base03,\n",
    "    grid_color=base2,minor_label_color=base2,key_label_color=base2,\n",
    "    key_title_color=cyan,major_label_color=cyan\n",
    "))"
   ]
  },
  {
   "cell_type": "code",
   "execution_count": null,
   "metadata": {
    "collapsed": false
   },
   "outputs": [],
   "source": [
    "close(fid)"
   ]
  },
  {
   "cell_type": "code",
   "execution_count": null,
   "metadata": {
    "collapsed": false
   },
   "outputs": [],
   "source": [
    "maximum(U*diagm(E)*transpose(V)-S)"
   ]
  },
  {
   "cell_type": "code",
   "execution_count": null,
   "metadata": {
    "collapsed": false
   },
   "outputs": [],
   "source": [
    "Nx=5\n",
    "N=3*Nx^2"
   ]
  },
  {
   "cell_type": "code",
   "execution_count": null,
   "metadata": {
    "collapsed": false
   },
   "outputs": [],
   "source": [
    "s=0\n",
    "for ii in 1:N\n",
    "    for b in 1:3\n",
    "        s+=U[ii,end]*V[Bondsw[ii,b],end]\n",
    "        println(U[ii,end]*V[Bondsw[ii,b],end],\"    \",s)\n",
    "    end\n",
    "end"
   ]
  },
  {
   "cell_type": "code",
   "execution_count": null,
   "metadata": {
    "collapsed": false
   },
   "outputs": [],
   "source": [
    "s"
   ]
  },
  {
   "cell_type": "code",
   "execution_count": null,
   "metadata": {
    "collapsed": false
   },
   "outputs": [],
   "source": [
    "U[:,end]/U[1,end]"
   ]
  },
  {
   "cell_type": "code",
   "execution_count": null,
   "metadata": {
    "collapsed": false
   },
   "outputs": [],
   "source": [
    "V[:,end]/V[1,end]"
   ]
  },
  {
   "cell_type": "code",
   "execution_count": null,
   "metadata": {
    "collapsed": false
   },
   "outputs": [],
   "source": [
    ".107*.1603"
   ]
  },
  {
   "cell_type": "code",
   "execution_count": null,
   "metadata": {
    "collapsed": false
   },
   "outputs": [],
   "source": [
    "N=7500; \n",
    "site=round(Int,N/2);\n",
    "  n=150;\n",
    "  omega=collect(linspace(0,6,150));\n",
    "  heights=zeros(omega);\n",
    "\n",
    "  for  e in 1:N;\n",
    "    k=round(Int,ceil(E[e]*50));\n",
    "    heights[k]+=.5*U[site,e].^2\n",
    "end"
   ]
  },
  {
   "cell_type": "code",
   "execution_count": null,
   "metadata": {
    "collapsed": false
   },
   "outputs": [],
   "source": [
    "t2=Theme(highlight_width=0pt,default_point_size=.75pt,background_color=base03,\n",
    "    grid_color=base2,minor_label_color=base2,key_label_color=base2,\n",
    "    key_title_color=cyan,major_label_color=cyan,\n",
    "major_label_font_size=15pt, minor_label_font_size=10pt,\n",
    "key_position=:none, panel_opacity=0\n",
    ");\n",
    "\n",
    "xl=Guide.xlabel(\"ω\")\n",
    "yl=Guide.ylabel(\"LDOS(ω)\")\n",
    "tl=Guide.title(\"Periodic Boundaries, Zero flux, Undistorted LDOS\")\n",
    "xs=Coord.Cartesian(xmin=0,xmax=6)\n",
    "\n",
    "p=plot(x=omega,y=heights,color=zeros(length(omega)),xs,Geom.bar,xl,yl,tl,t2,Scale.color_discrete_manual(blue))\n",
    "draw(SVG(\"hist_noflux_periodic.svg\", 6inch, 6inch), p)"
   ]
  },
  {
   "cell_type": "code",
   "execution_count": null,
   "metadata": {
    "collapsed": false
   },
   "outputs": [],
   "source": [
    "11809/(3*50^2), 1889/(3*20^2), 117/(3*5^2)"
   ]
  },
  {
   "cell_type": "code",
   "execution_count": null,
   "metadata": {
    "collapsed": true
   },
   "outputs": [],
   "source": []
  }
 ],
 "metadata": {
  "kernelspec": {
   "display_name": "Julia 0.4.1",
   "language": "julia",
   "name": "julia-0.4"
  },
  "language_info": {
   "file_extension": ".jl",
   "mimetype": "application/julia",
   "name": "julia",
   "version": "0.4.1"
  }
 },
 "nbformat": 4,
 "nbformat_minor": 0
}
