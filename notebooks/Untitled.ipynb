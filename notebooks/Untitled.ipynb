{
 "cells": [
  {
   "cell_type": "code",
   "execution_count": 6,
   "metadata": {
    "collapsed": false
   },
   "outputs": [
    {
     "name": "stderr",
     "output_type": "stream",
     "text": [
      "INFO: Recompiling stale cache file /Users/mira/.julia/lib/v0.4/PyPlot.ji for module PyPlot.\n",
      "INFO: Recompiling stale cache file /Users/mira/.julia/lib/v0.4/PyCall.ji for module PyCall.\n",
      "INFO: Recompiling stale cache file /Users/mira/.julia/lib/v0.4/Conda.ji for module Conda.\n",
      "INFO: Recompiling stale cache file /Users/mira/.julia/lib/v0.4/BinDeps.ji for module BinDeps.\n",
      "INFO: Recompiling stale cache file /Users/mira/.julia/lib/v0.4/URIParser.ji for module URIParser.\n",
      "INFO: Recompiling stale cache file /Users/mira/.julia/lib/v0.4/SHA.ji for module SHA.\n",
      "INFO: Recompiling stale cache file /Users/mira/.julia/lib/v0.4/Colors.ji for module Colors.\n",
      "INFO: Recompiling stale cache file /Users/mira/.julia/lib/v0.4/FixedPointNumbers.ji for module FixedPointNumbers.\n",
      "INFO: Recompiling stale cache file /Users/mira/.julia/lib/v0.4/ColorTypes.ji for module ColorTypes.\n",
      "INFO: Recompiling stale cache file /Users/mira/.julia/lib/v0.4/Reexport.ji for module Reexport.\n",
      "INFO: Recompiling stale cache file /Users/mira/.julia/lib/v0.4/LaTeXStrings.ji for module LaTeXStrings.\n"
     ]
    }
   ],
   "source": [
    "using PyPlot;"
   ]
  },
  {
   "cell_type": "code",
   "execution_count": 1,
   "metadata": {
    "collapsed": false
   },
   "outputs": [
    {
     "data": {
      "text/plain": [
       "MakeHexagon (generic function with 1 method)"
      ]
     },
     "execution_count": 1,
     "metadata": {},
     "output_type": "execute_result"
    }
   ],
   "source": [
    "function MakeHexagon(Nx::Int)\n",
    "      Npara=Nx^2;\n",
    "      N=Npara*3;\n",
    "\n",
    "      unit=transpose([cos(pi/6),sin(pi/6)])\n",
    "      a=transpose([2*cos(π/6),0]);\n",
    "      b=[cos(π/6),1+sin(π/6)];\n",
    "      bM=transpose(repeat(b,outer=[1,Nx]))\n",
    "      rotmat=[[cos(2*π/3) -sin(2*π/3)]\n",
    "            [sin(2*π/3) cos(2*π/3)]]\n",
    "\n",
    "\n",
    "      Xb=Array{Float64}(N,2);\n",
    "      Xw=Array{Float64}(N,2);\n",
    "\n",
    "      ## Creating the positions in the first parallelogram\n",
    "      for i in 1:Nx\n",
    "        Xb[i,:]=(i-1)*a;\n",
    "        Xw[i,:]=unit+(i-1)*a;\n",
    "      end\n",
    "\n",
    "      for j in 2:Nx\n",
    "        Xb[(Nx*(j-1)+1):(Nx*(j-1)+Nx),:]=Xb[1:Nx,:]+(j-1)*bM;\n",
    "        Xw[(Nx*(j-1)+1):(Nx*(j-1)+Nx),:]=Xw[1:Nx,:]+(j-1)*bM;\n",
    "      end\n",
    "\n",
    "      subt=Xb[Npara,2]+1\n",
    "      Xb[1:Npara,1]=Xb[1:Npara,1]-(Nx-1)*b[1];\n",
    "      Xw[1:Npara,1]=Xw[1:Npara,1]-(Nx-1)*b[1];\n",
    "      Xb[1:Npara,2]=Xb[1:Npara,2]-subt;\n",
    "      Xw[1:Npara,2]=Xw[1:Npara,2]-subt;\n",
    "\n",
    "      Xb[Npara+(1:Npara),1]=rotmat[1,1]*Xb[1:Npara,1]+rotmat[1,2]*Xb[1:Npara,2];\n",
    "      Xw[Npara+(1:Npara),1]=rotmat[1,1]*Xw[1:Npara,1]+rotmat[1,2]*Xw[1:Npara,2];\n",
    "      Xb[Npara+(1:Npara),2]=rotmat[2,1]*Xb[1:Npara,1]+rotmat[2,2]*Xb[1:Npara,2];\n",
    "      Xw[Npara+(1:Npara),2]=rotmat[2,1]*Xw[1:Npara,1]+rotmat[2,2]*Xw[1:Npara,2];\n",
    "\n",
    "      Xb[2*Npara+(1:Npara),1]=rotmat[1,1]*Xb[Npara+(1:Npara),1]+rotmat[1,2]*Xb[Npara+(1:Npara),2];\n",
    "      Xw[2*Npara+(1:Npara),1]=rotmat[1,1]*Xw[Npara+(1:Npara),1]+rotmat[1,2]*Xw[Npara+(1:Npara),2];\n",
    "      Xb[2*Npara+(1:Npara),2]=rotmat[2,1]*Xb[Npara+(1:Npara),1]+rotmat[2,2]*Xb[Npara+(1:Npara),2];\n",
    "      Xw[2*Npara+(1:Npara),2]=rotmat[2,1]*Xw[Npara+(1:Npara),1]+rotmat[2,2]*Xw[Npara+(1:Npara),2];\n",
    "\n",
    "      vb=sortperm(Xb[:,1]+Npara*Xb[:,2])\n",
    "      vw=sortperm(Xw[:,1]+Npara*Xw[:,2])\n",
    "      Xb=Xb[vb,:];\n",
    "      Xw=Xw[vw,:];\n",
    "\n",
    "  return Xb, Xw\n",
    "end"
   ]
  },
  {
   "cell_type": "code",
   "execution_count": 3,
   "metadata": {
    "collapsed": false
   },
   "outputs": [
    {
     "data": {
      "text/plain": [
       "MakeBonds (generic function with 1 method)"
      ]
     },
     "execution_count": 3,
     "metadata": {},
     "output_type": "execute_result"
    }
   ],
   "source": [
    "function MakeBonds(Nx::Int,Xb::Array{Float64,2},Xw::Array{Float64,2})\n",
    "  Npara=Nx^2;\n",
    "  N=Npara*3;\n",
    "\n",
    "  nrowb=[collect(Nx:(2*Nx));collect((2*Nx-1):-1:(Nx+1))]\n",
    "  nroww=flipdim(nrowb,1)\n",
    "\n",
    "  i0b=ones(nrowb)\n",
    "  i0w=ones(nroww)\n",
    "  for i in 2:length(nrowb)\n",
    "      i0b[i]=i0b[i-1]+nrowb[i-1]\n",
    "      i0w[i]=i0w[i-1]+nroww[i-1]\n",
    "  end\n",
    "  push!(i0b,N+1);\n",
    "  push!(i0w,N+1);\n",
    "\n",
    "  offsetb=zeros(N+1)\n",
    "  offsetw=zeros(N+1)\n",
    "  for i in 1:Nx\n",
    "      offsetb[i0b[i]:i0b[i+1]]=i-1\n",
    "      offsetb[i0b[i+Nx]:i0b[i+1+Nx]]=Nx-i\n",
    "      offsetw[i0w[i]:i0w[i+1]]=i-1\n",
    "      offsetw[i0w[i+Nx]:i0w[i+1+Nx]]=Nx-i\n",
    "  end\n",
    "\n",
    "  Bondsw=Array{Int64}(N,3);\n",
    "  Bondsb=Array{Int64}(N,3);\n",
    "  for i in 1:N\n",
    "      Bondsb[i,2]=i+offsetb[i];\n",
    "      Bondsw[i,2]=i-offsetw[i];\n",
    "      Bondsb[i,1]=i+1+offsetb[i];\n",
    "      Bondsw[i,1]=i-1-offsetw[i];\n",
    "      Bondsb[i,3]=i-Nx;\n",
    "      Bondsw[i,3]=i+Nx;\n",
    "  end\n",
    "\n",
    "  boundaryb=ones(Int64,N,3);\n",
    "  boundaryw=ones(Int64,N,3);\n",
    "  i=1\n",
    "  while isapprox(Xb[1,2],Xb[i,2])\n",
    "      Bondsb[i,3]=N-Nx+i\n",
    "      boundaryb[i,3]=0\n",
    "      Bondsw[N-Nx+i,3]=i\n",
    "      boundaryw[N-Nx+i,3]=0\n",
    "      #println(N-Nx+i,' ',i)\n",
    "      i+=1\n",
    "  end\n",
    "\n",
    "  Bondsw[i0w[1:Nx],1]=i0b[Nx+1+(1:Nx)]-1;\n",
    "  boundaryw[i0w[1:Nx],1]=0\n",
    "  Bondsb[i0b[Nx+1+(1:Nx)]-1,1]=i0w[1:Nx];\n",
    "  boundaryb[i0b[Nx+1+(1:Nx)]-1,1]=0\n",
    "\n",
    "  Bondsw[i0w[1+(1:Nx)]-1,2]=i0b[Nx+(1:Nx)];\n",
    "  boundaryw[i0w[1+(1:Nx)-1],2]=0\n",
    "  Bondsb[i0b[Nx+(1:Nx)],2]=i0w[1+(1:Nx)]-1;\n",
    "  boundaryb[i0b[Nx+(1:Nx)],2]=0\n",
    "\n",
    "\n",
    "  return Bondsb, Bondsw, boundaryb, boundaryw\n",
    "end"
   ]
  },
  {
   "cell_type": "code",
   "execution_count": 4,
   "metadata": {
    "collapsed": false
   },
   "outputs": [
    {
     "data": {
      "text/plain": [
       "5"
      ]
     },
     "execution_count": 4,
     "metadata": {},
     "output_type": "execute_result"
    }
   ],
   "source": [
    "Nx=5"
   ]
  },
  {
   "cell_type": "code",
   "execution_count": 5,
   "metadata": {
    "collapsed": true
   },
   "outputs": [],
   "source": [
    "Xb, Xw= MakeHexagon(Nx);"
   ]
  },
  {
   "cell_type": "code",
   "execution_count": null,
   "metadata": {
    "collapsed": true
   },
   "outputs": [],
   "source": []
  }
 ],
 "metadata": {
  "kernelspec": {
   "display_name": "Julia 0.4.1",
   "language": "julia",
   "name": "julia-0.4"
  },
  "language_info": {
   "file_extension": ".jl",
   "mimetype": "application/julia",
   "name": "julia",
   "version": "0.4.1"
  }
 },
 "nbformat": 4,
 "nbformat_minor": 0
}
